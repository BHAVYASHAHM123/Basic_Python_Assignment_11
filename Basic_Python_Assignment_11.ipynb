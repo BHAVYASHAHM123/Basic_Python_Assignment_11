{
  "nbformat": 4,
  "nbformat_minor": 0,
  "metadata": {
    "colab": {
      "name": "Basic_Python_Assignment_11.ipynb",
      "provenance": []
    },
    "kernelspec": {
      "name": "python3",
      "display_name": "Python 3"
    },
    "language_info": {
      "name": "python"
    }
  },
  "cells": [
    {
      "cell_type": "markdown",
      "source": [
        "Q1). Create an assert statement that throws an AssertionError if the variable spam is a negative integer.\n",
        "\n",
        "Ans) If the assert condition evaluates to False, then it raises the AssertionError exception with the specified error message."
      ],
      "metadata": {
        "id": "83xLPCK_OtXo"
      }
    },
    {
      "cell_type": "markdown",
      "source": [
        "Q2). Write an assert statement that triggers an AssertionError if the variables eggs and bacon contain strings that are the same as each other, even if their cases are different (that is, 'hello' and 'hello' are considered the same, and 'goodbye' and 'GOODbye' are also considered the same).\n",
        "\n",
        "\n",
        "Ans) "
      ],
      "metadata": {
        "id": "SIjCJr4tOtUR"
      }
    },
    {
      "cell_type": "code",
      "source": [
        "eggs = 'hello'\n",
        "bacon = 'goodbye'\n",
        "assert eggs.lower() != bacon.lower(), 'eggs/bacon should not be the same!'\n",
        "\n",
        "import logging\n",
        "logging.basicConfig(\n",
        "    filename='programLog.txt',\n",
        "    level=logging.DEBUG,\n",
        "    format='%(asctime)s - %(levelname)s - %(message)s')\n",
        "logging.disable(logging.DEBUG)\n"
      ],
      "metadata": {
        "id": "gOUSN8AoTCqm"
      },
      "execution_count": 11,
      "outputs": []
    },
    {
      "cell_type": "markdown",
      "source": [
        ""
      ],
      "metadata": {
        "id": "GyeFa5RbOtRe"
      }
    },
    {
      "cell_type": "markdown",
      "source": [
        "Q4). What are the two lines that must be present in your software in order to call logging.debug()?\n",
        "\n",
        "Ans) \n",
        "\n",
        "import logging\n",
        "logging.basicConfig(\n",
        "    filename='programLog.txt',\n",
        "    level=logging.DEBUG,\n",
        "    format='%(asctime)s - %(levelname)s - %(message)s')\n",
        "logging.disable(logging.DEBUG)"
      ],
      "metadata": {
        "id": "sP544JTEOtOc"
      }
    },
    {
      "cell_type": "markdown",
      "source": [
        "Q5). What are the two lines that your program must have in order to have logging.debug() send a logging message to a file named programLog.txt?\n",
        "\n",
        "Ans) \n",
        "\n",
        "import logging\n",
        "logging.basicConfig(\n",
        "    filename='programLog.txt',\n",
        "    level=logging.DEBUG,\n",
        "    format='%(asctime)s - %(levelname)s - %(message)s')\n",
        "logging.disable(logging.DEBUG)"
      ],
      "metadata": {
        "id": "eQ9b_o54OtLg"
      }
    },
    {
      "cell_type": "markdown",
      "source": [
        "Q6). What are the five levels of logging?\n",
        "\n",
        "Ans) \n",
        "TRACE.\n",
        "DEBUG.\n",
        "INFO.\n",
        "WARN.\n",
        "ERROR.\n",
        "FATAL."
      ],
      "metadata": {
        "id": "PSYLWUanOtIs"
      }
    },
    {
      "cell_type": "markdown",
      "source": [
        "Q7). What line of code would you add to your software to disable all logging messages?\n",
        "\n",
        "Ans) \n",
        "\n",
        "logger = logging.getLogger('my-logger')\n",
        "logger.propagate = False\n"
      ],
      "metadata": {
        "id": "fkLutOVyOtFx"
      }
    },
    {
      "cell_type": "markdown",
      "source": [
        "Q8).Why is using logging messages better than using print() to display the same message?\n",
        "\n",
        "Ans) segmenting log events by severity level is a good way to sift through which log messages may be most relevant at a given time. "
      ],
      "metadata": {
        "id": "Uo0qQ-O6OtDD"
      }
    },
    {
      "cell_type": "markdown",
      "source": [
        "Q9). What are the differences between the Step Over, Step In, and Step Out buttons in the debugger?\n",
        "\n",
        "Ans)  If the line does not contain a function it behaves the same as “step over” but if it does the debugger will enter the called function and continue line-by-line debugging there.\n",
        "Step out – An action to take in the debugger that returns to the line where the current function was called."
      ],
      "metadata": {
        "id": "fPw9kNZWOtAX"
      }
    },
    {
      "cell_type": "markdown",
      "source": [
        "Q10) .After you click Continue, when will the debugger stop ?\n",
        "\n",
        "Ans) Click Stop Debugging on the Debug menu to stop the target's execution and end the target process and all its threads"
      ],
      "metadata": {
        "id": "klvnm3mSOs9o"
      }
    },
    {
      "cell_type": "markdown",
      "source": [
        "Q11). What is the concept of a breakpoint?\n",
        "\n",
        "Ans) a breakpoint is an intentional stopping or pausing place in a program, put in place for debugging purposes"
      ],
      "metadata": {
        "id": "gWpeaMZkOs7D"
      }
    },
    {
      "cell_type": "markdown",
      "source": [
        ""
      ],
      "metadata": {
        "id": "5FNhIEbAOs3B"
      }
    },
    {
      "cell_type": "code",
      "execution_count": null,
      "metadata": {
        "id": "jvXQLOOhOkd0"
      },
      "outputs": [],
      "source": [
        ""
      ]
    }
  ]
}